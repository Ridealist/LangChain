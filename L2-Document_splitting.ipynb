{
 "cells": [
  {
   "cell_type": "markdown",
   "id": "571cf802",
   "metadata": {},
   "source": [
    "# Document Splitting"
   ]
  },
  {
   "cell_type": "code",
   "execution_count": null,
   "id": "ead2cd5d",
   "metadata": {},
   "outputs": [],
   "source": [
    "import os\n",
    "import openai\n",
    "import sys\n",
    "sys.path.append('../..')\n",
    "\n",
    "from dotenv import load_dotenv, find_dotenv\n",
    "_ = load_dotenv(find_dotenv()) # read local .env file\n",
    "\n",
    "openai.api_key = os.getenv('OPENAI_API_KEY')"
   ]
  },
  {
   "cell_type": "code",
   "execution_count": null,
   "id": "30c7fd47",
   "metadata": {},
   "outputs": [],
   "source": [
    "from langchain.text_splitter import RecursiveCharacterTextSplitter, CharacterTextSplitter"
   ]
  },
  {
   "cell_type": "code",
   "execution_count": 3,
   "id": "e45edd4b",
   "metadata": {},
   "outputs": [],
   "source": [
    "chunk_size = 26\n",
    "chunk_overlap = 4"
   ]
  },
  {
   "cell_type": "code",
   "execution_count": 4,
   "id": "c99770e5",
   "metadata": {},
   "outputs": [],
   "source": [
    "r_splitter = RecursiveCharacterTextSplitter(\n",
    "    chunk_size=chunk_size,\n",
    "    chunk_overlap=chunk_overlap\n",
    ")\n",
    "c_splitter = CharacterTextSplitter(\n",
    "    chunk_size=chunk_size,\n",
    "    chunk_overlap=chunk_overlap\n",
    ")"
   ]
  },
  {
   "cell_type": "markdown",
   "id": "631c7a66",
   "metadata": {},
   "source": [
    "Why doesn't this split the string below?"
   ]
  },
  {
   "cell_type": "code",
   "execution_count": 5,
   "id": "a7339b40",
   "metadata": {},
   "outputs": [],
   "source": [
    "text1 = 'abcdefghijklmnopqrstuvwxyz'"
   ]
  },
  {
   "cell_type": "code",
   "execution_count": 9,
   "id": "f1ff93e0",
   "metadata": {},
   "outputs": [
    {
     "data": {
      "text/plain": [
       "['abcdefghijklmnopqrstuvwxyz']"
      ]
     },
     "execution_count": 9,
     "metadata": {},
     "output_type": "execute_result"
    }
   ],
   "source": [
    "r_splitter.split_text(text1)"
   ]
  },
  {
   "cell_type": "code",
   "execution_count": 10,
   "id": "70c56dc1",
   "metadata": {},
   "outputs": [],
   "source": [
    "text2 = 'abcdefghijklmnopqrstuvwxyzabcdefg'"
   ]
  },
  {
   "cell_type": "code",
   "execution_count": 11,
   "id": "e1919c3b",
   "metadata": {},
   "outputs": [
    {
     "data": {
      "text/plain": [
       "['abcdefghijklmnopqrstuvwxyz', 'wxyzabcdefg']"
      ]
     },
     "execution_count": 11,
     "metadata": {},
     "output_type": "execute_result"
    }
   ],
   "source": [
    "r_splitter.split_text(text2)"
   ]
  },
  {
   "cell_type": "markdown",
   "id": "43d37682",
   "metadata": {},
   "source": [
    "Ok, this splits the string but we have an overlap specified as 5, but it looks like 3? (try an even number)"
   ]
  },
  {
   "cell_type": "code",
   "execution_count": 12,
   "id": "20f2af86",
   "metadata": {},
   "outputs": [],
   "source": [
    "text3 = \"a b c d e f g h i j k l m n o p q r s t u v w x y z\""
   ]
  },
  {
   "cell_type": "code",
   "execution_count": 13,
   "id": "78cde542",
   "metadata": {},
   "outputs": [
    {
     "data": {
      "text/plain": [
       "['a b c d e f g h i j k l m', 'l m n o p q r s t u v w x', 'w x y z']"
      ]
     },
     "execution_count": 13,
     "metadata": {},
     "output_type": "execute_result"
    }
   ],
   "source": [
    "# ()l()m -> 4 overlap\n",
    "\n",
    "r_splitter.split_text(text3)"
   ]
  },
  {
   "cell_type": "code",
   "execution_count": 16,
   "id": "a2adb949",
   "metadata": {},
   "outputs": [
    {
     "data": {
      "text/plain": [
       "['a b c d e f g h i j k l m n o p q r s t u v w x y z']"
      ]
     },
     "execution_count": 16,
     "metadata": {},
     "output_type": "execute_result"
    }
   ],
   "source": [
    "# default sepeartor: new-line\n",
    "\n",
    "c_splitter.split_text(text3)"
   ]
  },
  {
   "cell_type": "code",
   "execution_count": 17,
   "id": "112e208b",
   "metadata": {},
   "outputs": [
    {
     "data": {
      "text/plain": [
       "['a b c d e f g h i j k l m', 'l m n o p q r s t u v w x', 'w x y z']"
      ]
     },
     "execution_count": 17,
     "metadata": {},
     "output_type": "execute_result"
    }
   ],
   "source": [
    "c_splitter = CharacterTextSplitter(\n",
    "    chunk_size=chunk_size,\n",
    "    chunk_overlap=chunk_overlap,\n",
    "    separator = ' '\n",
    ")\n",
    "c_splitter.split_text(text3)"
   ]
  },
  {
   "cell_type": "markdown",
   "id": "763577fd",
   "metadata": {},
   "source": [
    "## Recursive splitting details\n",
    "RecursiveCharacterTextSplitter is recommended for generic text."
   ]
  },
  {
   "cell_type": "code",
   "execution_count": 18,
   "id": "c5483855",
   "metadata": {},
   "outputs": [],
   "source": [
    "some_text = \"\"\"When writing documents, writers will use document structure to group content. \\\n",
    "This can convey to the reader, which idea's are related. For example, closely related ideas \\\n",
    "are in sentances. Similar ideas are in paragraphs. Paragraphs form a document. \\n\\n  \\\n",
    "Paragraphs are often delimited with a carriage return or two carriage returns. \\\n",
    "Carriage returns are the \"backslash n\" you see embedded in this string. \\\n",
    "Sentences have a period at the end, but also, have a space.\\\n",
    "and words are separated by space.\"\"\""
   ]
  },
  {
   "cell_type": "code",
   "execution_count": 19,
   "id": "cd274410",
   "metadata": {},
   "outputs": [
    {
     "data": {
      "text/plain": [
       "496"
      ]
     },
     "execution_count": 19,
     "metadata": {},
     "output_type": "execute_result"
    }
   ],
   "source": [
    "len(some_text)"
   ]
  },
  {
   "cell_type": "code",
   "execution_count": 20,
   "id": "b72c2e6d",
   "metadata": {},
   "outputs": [],
   "source": [
    "c_splitter = CharacterTextSplitter(\n",
    "    chunk_size=450,\n",
    "    chunk_overlap=0,\n",
    "    separator = ' '\n",
    ")\n",
    "r_splitter = RecursiveCharacterTextSplitter(\n",
    "    chunk_size=450,\n",
    "    chunk_overlap=0, \n",
    "    separators=[\"\\n\\n\", \"\\n\", \" \", \"\"]\n",
    ")"
   ]
  },
  {
   "cell_type": "code",
   "execution_count": 21,
   "id": "2c57f284",
   "metadata": {},
   "outputs": [
    {
     "data": {
      "text/plain": [
       "['When writing documents, writers will use document structure to group content. This can convey to the reader, which idea\\'s are related. For example, closely related ideas are in sentances. Similar ideas are in paragraphs. Paragraphs form a document. \\n\\n Paragraphs are often delimited with a carriage return or two carriage returns. Carriage returns are the \"backslash n\" you see embedded in this string. Sentences have a period at the end, but also,',\n",
       " 'have a space.and words are separated by space.']"
      ]
     },
     "execution_count": 21,
     "metadata": {},
     "output_type": "execute_result"
    }
   ],
   "source": [
    "c_splitter.split_text(some_text)"
   ]
  },
  {
   "cell_type": "code",
   "execution_count": 22,
   "id": "53d8d6d9",
   "metadata": {},
   "outputs": [
    {
     "data": {
      "text/plain": [
       "[\"When writing documents, writers will use document structure to group content. This can convey to the reader, which idea's are related. For example, closely related ideas are in sentances. Similar ideas are in paragraphs. Paragraphs form a document.\",\n",
       " 'Paragraphs are often delimited with a carriage return or two carriage returns. Carriage returns are the \"backslash n\" you see embedded in this string. Sentences have a period at the end, but also, have a space.and words are separated by space.']"
      ]
     },
     "execution_count": 22,
     "metadata": {},
     "output_type": "execute_result"
    }
   ],
   "source": [
    "r_splitter.split_text(some_text)"
   ]
  },
  {
   "cell_type": "markdown",
   "id": "019f0890",
   "metadata": {},
   "source": [
    "Let's reduce the chunk size a bit and add a period to our separators:"
   ]
  },
  {
   "cell_type": "code",
   "execution_count": 25,
   "id": "0fe3543d",
   "metadata": {},
   "outputs": [
    {
     "data": {
      "text/plain": [
       "[\"When writing documents, writers will use document structure to group content. This can convey to the reader, which idea's are related\",\n",
       " '. For example, closely related ideas are in sentances. Similar ideas are in paragraphs. Paragraphs form a document.',\n",
       " 'Paragraphs are often delimited with a carriage return or two carriage returns',\n",
       " '. Carriage returns are the \"backslash n\" you see embedded in this string',\n",
       " '. Sentences have a period at the end, but also, have a space.and words are separated by space.']"
      ]
     },
     "execution_count": 25,
     "metadata": {},
     "output_type": "execute_result"
    }
   ],
   "source": [
    "r_splitter = RecursiveCharacterTextSplitter(\n",
    "    chunk_size=150,\n",
    "    chunk_overlap=0,\n",
    "    separators=[\"\\n\\n\", \"\\n\", \"\\. \", \" \", \"\"]\n",
    ")\n",
    "r_splitter.split_text(some_text)"
   ]
  },
  {
   "cell_type": "code",
   "execution_count": 24,
   "id": "de1737bd",
   "metadata": {},
   "outputs": [
    {
     "data": {
      "text/plain": [
       "[\"When writing documents, writers will use document structure to group content. This can convey to the reader, which idea's are related.\",\n",
       " 'For example, closely related ideas are in sentances. Similar ideas are in paragraphs. Paragraphs form a document.',\n",
       " 'Paragraphs are often delimited with a carriage return or two carriage returns.',\n",
       " 'Carriage returns are the \"backslash n\" you see embedded in this string.',\n",
       " 'Sentences have a period at the end, but also, have a space.and words are separated by space.']"
      ]
     },
     "execution_count": 24,
     "metadata": {},
     "output_type": "execute_result"
    }
   ],
   "source": [
    "r_splitter = RecursiveCharacterTextSplitter(\n",
    "    chunk_size=150,\n",
    "    chunk_overlap=0,\n",
    "                                #regex - look behind\n",
    "    separators=[\"\\n\\n\", \"\\n\", \"(?<=\\. )\", \" \", \"\"]\n",
    ")\n",
    "r_splitter.split_text(some_text)"
   ]
  },
  {
   "cell_type": "code",
   "execution_count": 26,
   "id": "b8cd92d9",
   "metadata": {},
   "outputs": [],
   "source": [
    "from langchain.document_loaders import PyPDFLoader\n",
    "loader = PyPDFLoader(\"docs/cs229_lectures/MachineLearning-Lecture01.pdf\")\n",
    "pages = loader.load()"
   ]
  },
  {
   "cell_type": "code",
   "execution_count": 27,
   "id": "c286fa1c",
   "metadata": {},
   "outputs": [],
   "source": [
    "from langchain.text_splitter import CharacterTextSplitter\n",
    "text_splitter = CharacterTextSplitter(\n",
    "    separator=\"\\n\",\n",
    "    chunk_size=1000,\n",
    "    chunk_overlap=150,\n",
    "    length_function=len\n",
    ")"
   ]
  },
  {
   "cell_type": "code",
   "execution_count": 28,
   "id": "2097d477",
   "metadata": {},
   "outputs": [],
   "source": [
    "docs = text_splitter.split_documents(pages)"
   ]
  },
  {
   "cell_type": "code",
   "execution_count": 30,
   "id": "8cdaaf29",
   "metadata": {},
   "outputs": [
    {
     "data": {
      "text/plain": [
       "22"
      ]
     },
     "execution_count": 30,
     "metadata": {},
     "output_type": "execute_result"
    }
   ],
   "source": [
    "len(pages)"
   ]
  },
  {
   "cell_type": "code",
   "execution_count": 29,
   "id": "cb0eb13b",
   "metadata": {},
   "outputs": [
    {
     "data": {
      "text/plain": [
       "77"
      ]
     },
     "execution_count": 29,
     "metadata": {},
     "output_type": "execute_result"
    }
   ],
   "source": [
    "len(docs)"
   ]
  },
  {
   "cell_type": "code",
   "execution_count": 31,
   "id": "618ebb0d",
   "metadata": {},
   "outputs": [],
   "source": [
    "from langchain.document_loaders import NotionDirectoryLoader\n",
    "loader = NotionDirectoryLoader(\"docs/Notion_DB\")\n",
    "notion_db = loader.load()"
   ]
  },
  {
   "cell_type": "code",
   "execution_count": 35,
   "id": "da0cb55e-cdde-4548-be92-82a31cac680a",
   "metadata": {},
   "outputs": [],
   "source": [
    "docs = text_splitter.split_documents(notion_db)"
   ]
  },
  {
   "cell_type": "code",
   "execution_count": 36,
   "id": "25c93697",
   "metadata": {},
   "outputs": [
    {
     "data": {
      "text/plain": [
       "52"
      ]
     },
     "execution_count": 36,
     "metadata": {},
     "output_type": "execute_result"
    }
   ],
   "source": [
    "len(notion_db)"
   ]
  },
  {
   "cell_type": "code",
   "execution_count": 38,
   "id": "ccf77c79-d0bf-46c3-b5e2-445c46d3b0f8",
   "metadata": {},
   "outputs": [
    {
     "data": {
      "text/plain": [
       "358"
      ]
     },
     "execution_count": 38,
     "metadata": {},
     "output_type": "execute_result"
    }
   ],
   "source": [
    "len(docs)"
   ]
  },
  {
   "cell_type": "markdown",
   "id": "106e581d-6ba3-4ccc-8f89-b13de3bb2a4c",
   "metadata": {},
   "source": [
    "## Custom"
   ]
  },
  {
   "cell_type": "code",
   "execution_count": 39,
   "id": "ac5bdad6-a1a9-4e71-832e-688eaf4f04e5",
   "metadata": {},
   "outputs": [],
   "source": [
    "loader = PyPDFLoader(\"교사인터뷰.pdf\")"
   ]
  },
  {
   "cell_type": "code",
   "execution_count": 40,
   "id": "96311e05-39aa-44ad-ac0e-58895f1f1b3e",
   "metadata": {},
   "outputs": [],
   "source": [
    "pages = loader.load()"
   ]
  },
  {
   "cell_type": "code",
   "execution_count": 43,
   "id": "51e62657-aebd-4fb6-a51a-fac5a4b72b4f",
   "metadata": {},
   "outputs": [
    {
     "data": {
      "text/plain": [
       "'- 1 -교대를 다니면서 학교 생활이 매일 기쁜 것만은 아니었지만 동기들도 착하고 또 교생 실습에\\n서 오는 기쁨 또 이제 미래에 대한 안정감 이런 것들이 우리 딸도 교사가 되면 좋겠구나라는 \\n생각을 좀 했었어요 .\\n왜 아이가 원치 않아도 부모님이 교대 가라는 말 많이 하시잖아요 . \\n저도 그러고 싶은 생각이 들었고 제 동기들도 그래서 교대에 왔다는 친구들도 꽤 있었어요 . \\n그런데 막상 교사가 되니까 이게 딸이 원한다면 적극 추천하겠지만 원치 않는다면 안정적이라\\n는 이유 등으로 억지로 강요할 수는 없을 것 같은 생각이 들어요 .\\n스스로 원해서 된 것이 아니라면 제가 지금부터 말씀드리는 이 몇 가지 단점들을 극복하기 힘\\n들 수도 있어요 . \\n교대를 준비하시는 분들 교사라는 직업에 관심이 있는 분들 발견한 것을 몇 가지 알려드릴게\\n요. \\n제가 초등학교 교사 되면서 제일 힘들었던 것 중에 하나는 화장실을 가기가 너무 힘들다는 거\\n예요. \\n수업 시간은 당연한 거고 쉬는 시간까지 제가 화장실을 갈 수 있는 사람이라는 걸 너무 까먹\\n어요.\\n그냥 화장실 갈 시간도 없나 이제 쉬는 시간에 가면 되지 이런 생각하실 텐데 수업 다 끝나면 \\n쉬는 시간 되면 학생들이 우르르 몰려옵니다 . \\n집에 있었던 일이나 또 친구에 대해서 친구가 자기를 잘못했다 이르는 거 또 친구가 때렸다 \\n이렇게 알리는 거\\n이런 것들을 선생님한테 말하러 진짜 오르로 거의 줄 서 있어요 . \\n줄 서지 않으라 그러면 정말 완전히 그냥 완전 시장판처럼 그렇게 올려와요 . \\n그러고 나서 그러면 이제 그거를 이렇게 하나하나 응대하다 보면 10분이 굉장히 짧아요 . \\n10분이 전부 쉬는 시간도 아닌 게 한 5분에서 7분이 지나면 다음 시간을 준비시켜야 되잖아\\n요. \\n그래서 이제 모든 에너지가 아이들에게 들어가서 제가\\n화장실 갈 시간조차 못 내는 게 첫 번째 단점이에요 . \\n가뭄에 콩 나듯 전담 시간이 있어요 . \\n4학년 담임인데 지금 한 3시간 정도 있거든요 . \\n이것도 1~2학년 담임일 경우에는 없을 수도 있어요 . \\n이게 좀 저는 단점이 아닌가 싶었어요 . \\n두 번째 성취 욕구를 느끼기가 힘들어요 . \\n학습지도 생활 지도 인성지도 이러는 것들이\\n눈에 드러나게 뭔가 나에게 성취를 주거나 이러진 않아요 . \\n이러긴 힘들어요 . 학습도 굉장히 이제 천천히 변화하는 거잖아요 . \\n그럼 제가 설명했을 때 아 이러는 그런 깨달음의 소리 정도 또 생활지도는 진짜 반복을 계속\\n해도 수십 번 이야기해도 이 습관을 좋은 방향으로 바꾸는 게 힘들잖아요 .\\n인성 부분은 더 잘 안대요 . 학부모님도 하지 못한 인성 지도를 이렇게 교사가 눈에 띄게 하기\\n는 힘들죠 . \\n성취 욕구를 느낄 만큼 하는 것이 쉽지 않아요 . \\n학습 생활 인성지도 이 각각의 변화라는 것은 정말 정말 미묘하고 변화된다 해도 천천히 티가 '"
      ]
     },
     "execution_count": 43,
     "metadata": {},
     "output_type": "execute_result"
    }
   ],
   "source": [
    "pages[0].page_content"
   ]
  },
  {
   "cell_type": "code",
   "execution_count": 44,
   "id": "239357c8-3a6b-4179-a0ea-f88579e93883",
   "metadata": {},
   "outputs": [
    {
     "data": {
      "text/plain": [
       "{'source': '교사인터뷰.pdf', 'page': 0}"
      ]
     },
     "execution_count": 44,
     "metadata": {},
     "output_type": "execute_result"
    }
   ],
   "source": [
    "pages[0].metadata"
   ]
  },
  {
   "cell_type": "code",
   "execution_count": 45,
   "id": "019e4eed-dec7-45c0-a699-d4c5db66e7af",
   "metadata": {},
   "outputs": [],
   "source": [
    "docs = text_splitter.split_documents(pages)"
   ]
  },
  {
   "cell_type": "code",
   "execution_count": 46,
   "id": "d4a09e28-c168-42a1-9eaf-66308443a9bb",
   "metadata": {},
   "outputs": [
    {
     "data": {
      "text/plain": [
       "22"
      ]
     },
     "execution_count": 46,
     "metadata": {},
     "output_type": "execute_result"
    }
   ],
   "source": [
    "len(pages)"
   ]
  },
  {
   "cell_type": "code",
   "execution_count": 50,
   "id": "df751974-bc5b-4162-b6b4-a742da87135b",
   "metadata": {},
   "outputs": [
    {
     "data": {
      "text/plain": [
       "43"
      ]
     },
     "execution_count": 50,
     "metadata": {},
     "output_type": "execute_result"
    }
   ],
   "source": [
    "len(docs)"
   ]
  },
  {
   "cell_type": "code",
   "execution_count": 52,
   "id": "413c0200-4279-4427-b7d4-39e6aecb494d",
   "metadata": {},
   "outputs": [
    {
     "data": {
      "text/plain": [
       "Document(page_content='- 1 -교대를 다니면서 학교 생활이 매일 기쁜 것만은 아니었지만 동기들도 착하고 또 교생 실습에\\n서 오는 기쁨 또 이제 미래에 대한 안정감 이런 것들이 우리 딸도 교사가 되면 좋겠구나라는 \\n생각을 좀 했었어요 .\\n왜 아이가 원치 않아도 부모님이 교대 가라는 말 많이 하시잖아요 . \\n저도 그러고 싶은 생각이 들었고 제 동기들도 그래서 교대에 왔다는 친구들도 꽤 있었어요 . \\n그런데 막상 교사가 되니까 이게 딸이 원한다면 적극 추천하겠지만 원치 않는다면 안정적이라\\n는 이유 등으로 억지로 강요할 수는 없을 것 같은 생각이 들어요 .\\n스스로 원해서 된 것이 아니라면 제가 지금부터 말씀드리는 이 몇 가지 단점들을 극복하기 힘\\n들 수도 있어요 . \\n교대를 준비하시는 분들 교사라는 직업에 관심이 있는 분들 발견한 것을 몇 가지 알려드릴게\\n요. \\n제가 초등학교 교사 되면서 제일 힘들었던 것 중에 하나는 화장실을 가기가 너무 힘들다는 거\\n예요. \\n수업 시간은 당연한 거고 쉬는 시간까지 제가 화장실을 갈 수 있는 사람이라는 걸 너무 까먹\\n어요.\\n그냥 화장실 갈 시간도 없나 이제 쉬는 시간에 가면 되지 이런 생각하실 텐데 수업 다 끝나면 \\n쉬는 시간 되면 학생들이 우르르 몰려옵니다 . \\n집에 있었던 일이나 또 친구에 대해서 친구가 자기를 잘못했다 이르는 거 또 친구가 때렸다 \\n이렇게 알리는 거\\n이런 것들을 선생님한테 말하러 진짜 오르로 거의 줄 서 있어요 . \\n줄 서지 않으라 그러면 정말 완전히 그냥 완전 시장판처럼 그렇게 올려와요 . \\n그러고 나서 그러면 이제 그거를 이렇게 하나하나 응대하다 보면 10분이 굉장히 짧아요 . \\n10분이 전부 쉬는 시간도 아닌 게 한 5분에서 7분이 지나면 다음 시간을 준비시켜야 되잖아\\n요. \\n그래서 이제 모든 에너지가 아이들에게 들어가서 제가\\n화장실 갈 시간조차 못 내는 게 첫 번째 단점이에요 . \\n가뭄에 콩 나듯 전담 시간이 있어요 . \\n4학년 담임인데 지금 한 3시간 정도 있거든요 .', metadata={'source': '교사인터뷰.pdf', 'page': 0})"
      ]
     },
     "execution_count": 52,
     "metadata": {},
     "output_type": "execute_result"
    }
   ],
   "source": [
    "docs[0]"
   ]
  },
  {
   "cell_type": "code",
   "execution_count": 54,
   "id": "a5b80f84-5098-4365-b89f-9fd2770c1b1a",
   "metadata": {},
   "outputs": [
    {
     "data": {
      "text/plain": [
       "Document(page_content='요. \\n그래서 이제 모든 에너지가 아이들에게 들어가서 제가\\n화장실 갈 시간조차 못 내는 게 첫 번째 단점이에요 . \\n가뭄에 콩 나듯 전담 시간이 있어요 . \\n4학년 담임인데 지금 한 3시간 정도 있거든요 . \\n이것도 1~2학년 담임일 경우에는 없을 수도 있어요 . \\n이게 좀 저는 단점이 아닌가 싶었어요 . \\n두 번째 성취 욕구를 느끼기가 힘들어요 . \\n학습지도 생활 지도 인성지도 이러는 것들이\\n눈에 드러나게 뭔가 나에게 성취를 주거나 이러진 않아요 . \\n이러긴 힘들어요 . 학습도 굉장히 이제 천천히 변화하는 거잖아요 . \\n그럼 제가 설명했을 때 아 이러는 그런 깨달음의 소리 정도 또 생활지도는 진짜 반복을 계속\\n해도 수십 번 이야기해도 이 습관을 좋은 방향으로 바꾸는 게 힘들잖아요 .\\n인성 부분은 더 잘 안대요 . 학부모님도 하지 못한 인성 지도를 이렇게 교사가 눈에 띄게 하기\\n는 힘들죠 . \\n성취 욕구를 느낄 만큼 하는 것이 쉽지 않아요 . \\n학습 생활 인성지도 이 각각의 변화라는 것은 정말 정말 미묘하고 변화된다 해도 천천히 티가', metadata={'source': '교사인터뷰.pdf', 'page': 0})"
      ]
     },
     "execution_count": 54,
     "metadata": {},
     "output_type": "execute_result"
    }
   ],
   "source": [
    "docs[1]"
   ]
  },
  {
   "cell_type": "markdown",
   "id": "233d004f",
   "metadata": {},
   "source": [
    "## Token splitting\n",
    "We can also split on token count explicity, if we want.\n",
    "\n",
    "This can be useful because LLMs often have context windows designated in tokens.\n",
    "\n",
    "Tokens are often ~4 characters."
   ]
  },
  {
   "cell_type": "code",
   "execution_count": 55,
   "id": "b2ac9766",
   "metadata": {},
   "outputs": [],
   "source": [
    "from langchain.text_splitter import TokenTextSplitter"
   ]
  },
  {
   "cell_type": "code",
   "execution_count": 56,
   "id": "557001e6",
   "metadata": {},
   "outputs": [],
   "source": [
    "text_splitter = TokenTextSplitter(\n",
    "    chunk_size=1,\n",
    "    chunk_overlap=0\n",
    ")"
   ]
  },
  {
   "cell_type": "code",
   "execution_count": 57,
   "id": "36fcf5ab",
   "metadata": {},
   "outputs": [],
   "source": [
    "text1 = \"foo bar bazzyfoo\""
   ]
  },
  {
   "cell_type": "code",
   "execution_count": 58,
   "id": "bbd53700",
   "metadata": {},
   "outputs": [
    {
     "data": {
      "text/plain": [
       "['foo', ' bar', ' b', 'az', 'zy', 'foo']"
      ]
     },
     "execution_count": 58,
     "metadata": {},
     "output_type": "execute_result"
    }
   ],
   "source": [
    "text_splitter.split_text(text1)"
   ]
  },
  {
   "cell_type": "code",
   "execution_count": 59,
   "id": "7329eec4",
   "metadata": {},
   "outputs": [],
   "source": [
    "text_splitter = TokenTextSplitter(\n",
    "    chunk_size=10,\n",
    "    chunk_overlap=0\n",
    ")"
   ]
  },
  {
   "cell_type": "markdown",
   "id": "45d79762-d585-4e0e-8a0a-516c6b03f23f",
   "metadata": {},
   "source": [
    "## Built-in PDF"
   ]
  },
  {
   "cell_type": "code",
   "execution_count": 66,
   "id": "5b7acaad-5c55-41a2-85d9-f23475fb809f",
   "metadata": {},
   "outputs": [],
   "source": [
    "loader = PyPDFLoader(\"docs/cs229_lectures/MachineLearning-Lecture01.pdf\")\n",
    "pages = loader.load()"
   ]
  },
  {
   "cell_type": "code",
   "execution_count": 67,
   "id": "bb51f9d4",
   "metadata": {},
   "outputs": [],
   "source": [
    "docs = text_splitter.split_documents(pages)"
   ]
  },
  {
   "cell_type": "code",
   "execution_count": 68,
   "id": "1b9ffb32",
   "metadata": {},
   "outputs": [
    {
     "data": {
      "text/plain": [
       "Document(page_content='MachineLearning-Lecture01  \\n', metadata={'source': 'docs/cs229_lectures/MachineLearning-Lecture01.pdf', 'page': 0})"
      ]
     },
     "execution_count": 68,
     "metadata": {},
     "output_type": "execute_result"
    }
   ],
   "source": [
    "docs[0]"
   ]
  },
  {
   "cell_type": "code",
   "execution_count": 69,
   "id": "82a84448",
   "metadata": {},
   "outputs": [
    {
     "data": {
      "text/plain": [
       "{'source': 'docs/cs229_lectures/MachineLearning-Lecture01.pdf', 'page': 0}"
      ]
     },
     "execution_count": 69,
     "metadata": {},
     "output_type": "execute_result"
    }
   ],
   "source": [
    "pages[0].metadata"
   ]
  },
  {
   "cell_type": "code",
   "execution_count": 70,
   "id": "a12e1209-e25b-474d-8c71-4200d90152d4",
   "metadata": {},
   "outputs": [
    {
     "data": {
      "text/plain": [
       "1557"
      ]
     },
     "execution_count": 70,
     "metadata": {},
     "output_type": "execute_result"
    }
   ],
   "source": [
    "len(docs)"
   ]
  },
  {
   "cell_type": "code",
   "execution_count": 73,
   "id": "1537cda4-05c2-40e4-a617-63ef24505f04",
   "metadata": {},
   "outputs": [
    {
     "data": {
      "text/plain": [
       "[Document(page_content='MachineLearning-Lecture01  \\n', metadata={'source': 'docs/cs229_lectures/MachineLearning-Lecture01.pdf', 'page': 0}),\n",
       " Document(page_content='Instructor (Andrew Ng):  Okay. Good', metadata={'source': 'docs/cs229_lectures/MachineLearning-Lecture01.pdf', 'page': 0}),\n",
       " Document(page_content=' morning. Welcome to CS229, the machine ', metadata={'source': 'docs/cs229_lectures/MachineLearning-Lecture01.pdf', 'page': 0}),\n",
       " Document(page_content='\\nlearning class. So what I wanna do today', metadata={'source': 'docs/cs229_lectures/MachineLearning-Lecture01.pdf', 'page': 0}),\n",
       " Document(page_content=' is ju st spend a little time going over the', metadata={'source': 'docs/cs229_lectures/MachineLearning-Lecture01.pdf', 'page': 0}),\n",
       " Document(page_content=' logistics \\nof the class, and then we', metadata={'source': 'docs/cs229_lectures/MachineLearning-Lecture01.pdf', 'page': 0}),\n",
       " Document(page_content=\"'ll start to  talk a bit about machine learning\", metadata={'source': 'docs/cs229_lectures/MachineLearning-Lecture01.pdf', 'page': 0}),\n",
       " Document(page_content='.  \\nBy way of introduction, my', metadata={'source': 'docs/cs229_lectures/MachineLearning-Lecture01.pdf', 'page': 0}),\n",
       " Document(page_content=\" name's  Andrew Ng and I'll be inst\", metadata={'source': 'docs/cs229_lectures/MachineLearning-Lecture01.pdf', 'page': 0}),\n",
       " Document(page_content='ru ctor for this class. And so ', metadata={'source': 'docs/cs229_lectures/MachineLearning-Lecture01.pdf', 'page': 0})]"
      ]
     },
     "execution_count": 73,
     "metadata": {},
     "output_type": "execute_result"
    }
   ],
   "source": [
    "docs[:10]"
   ]
  },
  {
   "cell_type": "markdown",
   "id": "ac4c40ef-e966-461d-a927-034b36b4c154",
   "metadata": {},
   "source": [
    "## Custom PDF"
   ]
  },
  {
   "cell_type": "code",
   "execution_count": 76,
   "id": "5f900ef3-9e1d-4d90-a47e-40318949973b",
   "metadata": {},
   "outputs": [],
   "source": [
    "loader = PyPDFLoader('교사인터뷰.pdf')\n",
    "pages = loader.load()"
   ]
  },
  {
   "cell_type": "code",
   "execution_count": 78,
   "id": "2262b5b7-c4a2-4e7e-99b4-99d65cd4feae",
   "metadata": {},
   "outputs": [],
   "source": [
    "docs = text_splitter.split_documents(pages)"
   ]
  },
  {
   "cell_type": "code",
   "execution_count": 79,
   "id": "161f140c-9c54-4cc5-91ce-bbd17604a2b1",
   "metadata": {},
   "outputs": [
    {
     "data": {
      "text/plain": [
       "Document(page_content='- 1 -교대�', metadata={'source': '교사인터뷰.pdf', 'page': 0})"
      ]
     },
     "execution_count": 79,
     "metadata": {},
     "output_type": "execute_result"
    }
   ],
   "source": [
    "docs[0]"
   ]
  },
  {
   "cell_type": "code",
   "execution_count": 80,
   "id": "4e1832bc-dc07-46fe-bc8a-ec669e778df8",
   "metadata": {},
   "outputs": [
    {
     "data": {
      "text/plain": [
       "{'source': '교사인터뷰.pdf', 'page': 0}"
      ]
     },
     "execution_count": 80,
     "metadata": {},
     "output_type": "execute_result"
    }
   ],
   "source": [
    "docs[0].metadata"
   ]
  },
  {
   "cell_type": "code",
   "execution_count": 81,
   "id": "3cef799a-fc68-455a-a458-b044cf6803b9",
   "metadata": {},
   "outputs": [
    {
     "data": {
      "text/plain": [
       "[Document(page_content='- 1 -교대�', metadata={'source': '교사인터뷰.pdf', 'page': 0}),\n",
       " Document(page_content='�� 다니면', metadata={'source': '교사인터뷰.pdf', 'page': 0}),\n",
       " Document(page_content='서 학교 �', metadata={'source': '교사인터뷰.pdf', 'page': 0}),\n",
       " Document(page_content='��활이 매', metadata={'source': '교사인터뷰.pdf', 'page': 0}),\n",
       " Document(page_content='일 기쁜 ', metadata={'source': '교사인터뷰.pdf', 'page': 0}),\n",
       " Document(page_content='것만은 �', metadata={'source': '교사인터뷰.pdf', 'page': 0}),\n",
       " Document(page_content='�니었지�', metadata={'source': '교사인터뷰.pdf', 'page': 0}),\n",
       " Document(page_content='�� 동기�', metadata={'source': '교사인터뷰.pdf', 'page': 0}),\n",
       " Document(page_content='�도 착하�', metadata={'source': '교사인터뷰.pdf', 'page': 0}),\n",
       " Document(page_content='�� 또 교�', metadata={'source': '교사인터뷰.pdf', 'page': 0})]"
      ]
     },
     "execution_count": 81,
     "metadata": {},
     "output_type": "execute_result"
    }
   ],
   "source": [
    "docs[:10]"
   ]
  },
  {
   "cell_type": "markdown",
   "id": "648df746",
   "metadata": {},
   "source": [
    "## Context aware splitting\n",
    "Chunking aims to keep text with common context together.\n",
    "\n",
    "A text splitting often uses sentences or other delimiters to keep related text together but many documents (such as Markdown) have structure (headers) that can be explicitly used in splitting.\n",
    "\n",
    "We can use MarkdownHeaderTextSplitter to preserve header metadata in our chunks, as show below."
   ]
  },
  {
   "cell_type": "code",
   "execution_count": 82,
   "id": "d0b4fa64",
   "metadata": {},
   "outputs": [],
   "source": [
    "from langchain.document_loaders import NotionDirectoryLoader\n",
    "from langchain.text_splitter import MarkdownHeaderTextSplitter"
   ]
  },
  {
   "cell_type": "code",
   "execution_count": 83,
   "id": "fdb6db95",
   "metadata": {},
   "outputs": [],
   "source": [
    "markdown_document = \"\"\"# Title\\n\\n \\\n",
    "## Chapter 1\\n\\n \\\n",
    "Hi this is Jim\\n\\n Hi this is Joe\\n\\n \\\n",
    "### Section \\n\\n \\\n",
    "Hi this is Lance \\n\\n \n",
    "## Chapter 2\\n\\n \\\n",
    "Hi this is Molly\"\"\""
   ]
  },
  {
   "cell_type": "code",
   "execution_count": 84,
   "id": "4d1bc544",
   "metadata": {},
   "outputs": [],
   "source": [
    "headers_to_split_on = [\n",
    "    (\"#\", \"Header 1\"),\n",
    "    (\"##\", \"Header 2\"),\n",
    "    (\"###\", \"Header 3\"),\n",
    "]"
   ]
  },
  {
   "cell_type": "code",
   "execution_count": 85,
   "id": "db0ab41f",
   "metadata": {},
   "outputs": [],
   "source": [
    "markdown_splitter = MarkdownHeaderTextSplitter(\n",
    "    headers_to_split_on=headers_to_split_on\n",
    ")\n",
    "md_header_splits = markdown_splitter.split_text(markdown_document)"
   ]
  },
  {
   "cell_type": "code",
   "execution_count": 86,
   "id": "e771191d",
   "metadata": {},
   "outputs": [
    {
     "data": {
      "text/plain": [
       "Document(page_content='Hi this is Jim  \\nHi this is Joe', metadata={'Header 1': 'Title', 'Header 2': 'Chapter 1'})"
      ]
     },
     "execution_count": 86,
     "metadata": {},
     "output_type": "execute_result"
    }
   ],
   "source": [
    "md_header_splits[0]"
   ]
  },
  {
   "cell_type": "code",
   "execution_count": 87,
   "id": "391ae033",
   "metadata": {},
   "outputs": [
    {
     "data": {
      "text/plain": [
       "Document(page_content='Hi this is Lance', metadata={'Header 1': 'Title', 'Header 2': 'Chapter 1', 'Header 3': 'Section'})"
      ]
     },
     "execution_count": 87,
     "metadata": {},
     "output_type": "execute_result"
    }
   ],
   "source": [
    "md_header_splits[1]"
   ]
  },
  {
   "cell_type": "markdown",
   "id": "7a2cea1e",
   "metadata": {},
   "source": [
    "Try on a real Markdown file, like a Notion database."
   ]
  },
  {
   "cell_type": "code",
   "execution_count": 92,
   "id": "76de0869",
   "metadata": {},
   "outputs": [],
   "source": [
    "loader = NotionDirectoryLoader(\"docs/Notion_DB\")\n",
    "docs = loader.load()\n",
    "txt = ' '.join([d.page_content for d in docs])"
   ]
  },
  {
   "cell_type": "code",
   "execution_count": 93,
   "id": "ccf84da7",
   "metadata": {},
   "outputs": [],
   "source": [
    "headers_to_split_on = [\n",
    "    (\"#\", \"Header 1\"),\n",
    "    (\"##\", \"Header 2\"),\n",
    "]\n",
    "markdown_splitter = MarkdownHeaderTextSplitter(\n",
    "    headers_to_split_on=headers_to_split_on\n",
    ")"
   ]
  },
  {
   "cell_type": "code",
   "execution_count": 94,
   "id": "c89d678c",
   "metadata": {},
   "outputs": [],
   "source": [
    "md_header_splits = markdown_splitter.split_text(txt)"
   ]
  },
  {
   "cell_type": "code",
   "execution_count": 95,
   "id": "33c7c438",
   "metadata": {},
   "outputs": [
    {
     "data": {
      "text/plain": [
       "Document(page_content=\"Saying goodbye to Blendle (from a colleague) and to a colleague (from Blendle) is a very normal and natural thing. When done right, it can even be a beautiful thing.  \\nWe advise you to read the backdrop below first, but feel free to jump in right away with the 'Here's what you can do'-section :). General note: you do not have to do this alone, so please ask for advice and help!  \\n- **Backdrop**  \\nSaying goodbye to Blendle (from a colleague) and to a colleague (from Blendle) is a very normal and natural thing. When done right, it can even be a beautiful thing.  \\nSaying goodbye to people is also an important part of keeping your team on the right track. Firing can even be a part of your [Personnel Planning](https://www.notion.so/Hiring-451bbcfe8d9b49438c0633326bb7af0a?pvs=21). The most common situation will be when you think someone is no longer a good match with Blendle for whatever reason. This doesn't happen overnight, so try to spot situations where this is happening.  \\nTo make things clear: HR and Rick and Alex will help you with this, but we want this to be on your agenda. HR will take care of the process and paper- and legal work. Rick and Alex will help with the tough conversations. **The most important work happens months before that and that's where you come in.**  \\nWhy? You actually work with your people and see how they are really doing. You have 1on1's, off-sites, projects and feedback sessions together. All the information flows to you as a lead :).\", metadata={'Header 1': 'Firing'})"
      ]
     },
     "execution_count": 95,
     "metadata": {},
     "output_type": "execute_result"
    }
   ],
   "source": [
    "md_header_splits[0]`"
   ]
  },
  {
   "cell_type": "code",
   "execution_count": null,
   "id": "3f70ff0c-dfc0-4d74-8c37-09587897cc0e",
   "metadata": {},
   "outputs": [],
   "source": []
  }
 ],
 "metadata": {
  "kernelspec": {
   "display_name": "Python 3.11 (nlp)",
   "language": "python",
   "name": "nlp"
  },
  "language_info": {
   "codemirror_mode": {
    "name": "ipython",
    "version": 3
   },
   "file_extension": ".py",
   "mimetype": "text/x-python",
   "name": "python",
   "nbconvert_exporter": "python",
   "pygments_lexer": "ipython3",
   "version": "3.11.4"
  }
 },
 "nbformat": 4,
 "nbformat_minor": 5
}
